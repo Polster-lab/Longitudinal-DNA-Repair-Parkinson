{
 "cells": [
  {
   "cell_type": "code",
   "execution_count": null,
   "id": "32d48ab0-d515-4a06-9cab-d12938900560",
   "metadata": {},
   "outputs": [],
   "source": [
    "import pandas as pd"
   ]
  },
  {
   "cell_type": "code",
   "execution_count": null,
   "id": "225537da-1fc8-42fb-8a67-31989ba0efe3",
   "metadata": {},
   "outputs": [],
   "source": [
    "meta_data = pd.read_csv('../../../For_analysis/RNASequencing/IR3/metaDataIR3.csv')\n",
    "meta_data"
   ]
  },
  {
   "cell_type": "code",
   "execution_count": null,
   "id": "59ea7ce7-0ee4-4a43-baaa-a3d02c5f5092",
   "metadata": {},
   "outputs": [],
   "source": [
    "meta_data.columns"
   ]
  },
  {
   "cell_type": "code",
   "execution_count": null,
   "id": "2080c179-d3bc-4adb-9e01-e4250e3d8229",
   "metadata": {},
   "outputs": [],
   "source": [
    "meta_data.PATNO.value_counts()"
   ]
  },
  {
   "cell_type": "code",
   "execution_count": null,
   "id": "a064a720-2b46-4469-be63-6beadfae2b4f",
   "metadata": {},
   "outputs": [],
   "source": [
    "disease_df = meta_data[['PATNO','DIAGNOSIS']].drop_duplicates()"
   ]
  },
  {
   "cell_type": "code",
   "execution_count": null,
   "id": "a105181c-81dd-400f-a52c-17a6fcb65360",
   "metadata": {},
   "outputs": [],
   "source": [
    "disease_df.DIAGNOSIS.value_counts()"
   ]
  },
  {
   "cell_type": "code",
   "execution_count": null,
   "id": "05ca2b32-456b-41f8-8cce-53ae08c409cd",
   "metadata": {},
   "outputs": [],
   "source": [
    "import os"
   ]
  },
  {
   "cell_type": "code",
   "execution_count": null,
   "id": "fcfee8b4-6fc5-46fd-b7b0-52a6b7c49c4c",
   "metadata": {},
   "outputs": [],
   "source": [
    "l = 0\n",
    "for i in os.listdir('../../../For_analysis/RNASequencing/IR3/quant/'):\n",
    "    l = l + 1\n",
    "    print(i)\n",
    "    if l==3:\n",
    "        break"
   ]
  },
  {
   "cell_type": "code",
   "execution_count": null,
   "id": "bb81b449-8f96-42ed-bd1c-116f3a98de83",
   "metadata": {},
   "outputs": [],
   "source": [
    "gene_excel = pd.ExcelFile('/12tb_dsk3/For_analysis/Modified Master DNA Repair List HN NPM.xlsx')"
   ]
  },
  {
   "cell_type": "code",
   "execution_count": null,
   "id": "a954f878-6087-4a10-b9e8-b5b256f6a4ef",
   "metadata": {},
   "outputs": [],
   "source": [
    "df2 = pd.read_excel(gene_excel, 'smaller')\n",
    "df1 = pd.read_excel(gene_excel, 'Integrated stress response')"
   ]
  },
  {
   "cell_type": "code",
   "execution_count": null,
   "id": "3739e3f0-f1d2-4c54-b0d9-b14f8b46e907",
   "metadata": {},
   "outputs": [],
   "source": [
    "df1"
   ]
  },
  {
   "cell_type": "code",
   "execution_count": null,
   "id": "e1d72611-526c-402e-bbed-88f470fe04c9",
   "metadata": {},
   "outputs": [],
   "source": [
    "df1 = df1[~df1.iloc[:,0].isna()]"
   ]
  },
  {
   "cell_type": "code",
   "execution_count": null,
   "id": "254cb02c-2314-4621-92f6-39a20cb42fc0",
   "metadata": {},
   "outputs": [],
   "source": [
    "df1"
   ]
  },
  {
   "cell_type": "code",
   "execution_count": null,
   "id": "f30a0651-d308-4adb-8749-95eb96d75671",
   "metadata": {},
   "outputs": [],
   "source": [
    "len(df1.iloc[:,0].tolist())"
   ]
  },
  {
   "cell_type": "code",
   "execution_count": null,
   "id": "573cfd74-88f4-4cc1-a149-d8915b3a1fd2",
   "metadata": {},
   "outputs": [],
   "source": [
    "df1.iloc[:,0].tolist()"
   ]
  },
  {
   "cell_type": "code",
   "execution_count": null,
   "id": "f6a58560-d14b-4b16-b4ca-e743d5d22755",
   "metadata": {},
   "outputs": [],
   "source": [
    "gene_list = [i.strip() for i in df1.iloc[:,0].tolist()]"
   ]
  },
  {
   "cell_type": "code",
   "execution_count": null,
   "id": "d370bff1-2ec2-48a4-bc04-d19a4c2d8f45",
   "metadata": {},
   "outputs": [],
   "source": [
    "len(set(gene_list))"
   ]
  },
  {
   "cell_type": "code",
   "execution_count": null,
   "id": "5d2f955f-7032-45d8-b629-221f424981c6",
   "metadata": {},
   "outputs": [],
   "source": [
    "len(gene_list)"
   ]
  },
  {
   "cell_type": "code",
   "execution_count": null,
   "id": "1c36cabd-d10b-4a38-9b67-7cffb1047fbf",
   "metadata": {},
   "outputs": [],
   "source": [
    "\n",
    "from pybiomart import Server\n",
    "\n",
    "# Connect to the Ensembl server\n",
    "server = Server(host='http://www.ensembl.org')\n",
    "dataset = server.marts['ENSEMBL_MART_ENSEMBL'].datasets['hsapiens_gene_ensembl']  # Replace with your organism\n",
    "\n",
    "# Query for gene names and Ensembl IDs\n",
    "# Replace 'BRCA1' with your gene of interest or a list of genes\n",
    "genes_of_interest = gene_list\n",
    "query_results = dataset.query(attributes=['external_gene_name', 'ensembl_gene_id'])\n",
    "\n",
    "# Filter results for your genes of interest\n",
    "results = query_results[query_results['Gene name'].isin(genes_of_interest)]\n",
    "print(results)\n"
   ]
  },
  {
   "cell_type": "code",
   "execution_count": null,
   "id": "f0481089-5f78-4991-a3d1-b9448831a59a",
   "metadata": {},
   "outputs": [],
   "source": [
    " set(gene_list) - set(results['Gene name'])"
   ]
  },
  {
   "cell_type": "code",
   "execution_count": null,
   "id": "d491f2c3-cb5f-440e-bcc5-8f86764afe67",
   "metadata": {},
   "outputs": [],
   "source": [
    "keep_genes = results['Gene stable ID'].tolist()\n",
    "keep_genes.append('ENSG00000183454')\n",
    "keep_genes.append('ENSG00000149295')\n",
    "keep_genes.append('ENSG00000116044')\n",
    "keep_genes.append('ENSG00000138685')\n",
    "keep_genes.append('ENSG00000105549')"
   ]
  },
  {
   "cell_type": "code",
   "execution_count": null,
   "id": "e9cce1ff-9a9a-4b5b-a196-a6f65db207d3",
   "metadata": {},
   "outputs": [],
   "source": [
    "len (set(keep_genes))"
   ]
  },
  {
   "cell_type": "code",
   "execution_count": null,
   "id": "bc160833-39dc-4423-bf2b-11f65c351bcb",
   "metadata": {},
   "outputs": [],
   "source": [
    "\n",
    "from pybiomart import Server\n",
    "\n",
    "# Connect to the Ensembl server\n",
    "server = Server(host='http://www.ensembl.org')\n",
    "dataset = server.marts['ENSEMBL_MART_ENSEMBL'].datasets['hsapiens_gene_ensembl']  # Replace with your organism\n",
    "\n",
    "# Query for gene names and Ensembl IDs\n",
    "# Replace 'BRCA1' with your gene of interest or a list of genes\n",
    "genes_of_interest = keep_genes\n",
    "query_results = dataset.query(attributes=['external_gene_name', 'ensembl_gene_id'])\n",
    "\n",
    "# Filter results for your genes of interest\n",
    "results = query_results[query_results['Gene stable ID'].isin(genes_of_interest)]\n",
    "print(results)\n"
   ]
  },
  {
   "cell_type": "code",
   "execution_count": null,
   "id": "8b295ccc-f23b-4814-ae16-b9426f842e00",
   "metadata": {},
   "outputs": [],
   "source": [
    "query_results"
   ]
  },
  {
   "cell_type": "code",
   "execution_count": null,
   "id": "c56c43a3-ea64-4038-bc3e-a9c550a3bb9d",
   "metadata": {},
   "outputs": [],
   "source": [
    "sample_3813 = pd.read_csv('../../../For_analysis/RNASequencing/IR3/quant/PPMI-Phase2-IR3.3813.V02.PP0013-6148.5104-SL-4635.longRNA-NEBKAP.salmon.genes.sf' ,sep = '\\t')\n",
    "m = [i.split('.')[0] for i in sample_3813.Name.tolist()]"
   ]
  },
  {
   "cell_type": "code",
   "execution_count": null,
   "id": "96c79fb6-f20e-4c53-9185-c3d105492d8c",
   "metadata": {},
   "outputs": [],
   "source": [
    "keep_genes = list(set(m).intersection(keep_genes))"
   ]
  },
  {
   "cell_type": "code",
   "execution_count": null,
   "id": "e1bcb07d-fabf-41e5-b1fa-9b8175ff7d30",
   "metadata": {},
   "outputs": [],
   "source": [
    "len(keep_genes) # found 3 genes"
   ]
  },
  {
   "cell_type": "code",
   "execution_count": null,
   "id": "d62a679c-5900-41f5-b294-611dc5676e63",
   "metadata": {
    "scrolled": true
   },
   "outputs": [],
   "source": [
    "l = 0\n",
    "from tqdm import tqdm\n",
    "data = pd.DataFrame(columns=keep_genes)\n",
    "for i in tqdm(os.listdir('../../../For_analysis/RNASequencing/IR3/quant/')):\n",
    "    if 'genes' not in i:\n",
    "        continue\n",
    "    \n",
    "    read_file_path = '../../../For_analysis/RNASequencing/IR3/quant/'+ str(i)\n",
    "    df = pd.read_csv(read_file_path ,sep = '\\t')\n",
    "    #print(df.head())\n",
    "    m = [i.split('.')[0] for i in df.Name.tolist()]\n",
    "    df['Name'] = m \n",
    "    df = df.rename(columns={'TPM': i})\n",
    "    #print(df.head())\n",
    "    df = df.set_index('Name')[[i]].T\n",
    "    \n",
    "    df = df[keep_genes]\n",
    "    #print(df.head())\n",
    "    data = pd.concat([data,df])\n"
   ]
  },
  {
   "cell_type": "code",
   "execution_count": null,
   "id": "2464c4be-c020-4b6a-8520-1b84fc02da17",
   "metadata": {},
   "outputs": [],
   "source": [
    "data.sort_index()"
   ]
  },
  {
   "cell_type": "code",
   "execution_count": null,
   "id": "59d73f0f-e0ef-41d1-ba19-b388a871bced",
   "metadata": {},
   "outputs": [],
   "source": [
    "meta_data"
   ]
  },
  {
   "cell_type": "code",
   "execution_count": null,
   "id": "44997bc1-3b44-4127-a67f-747c6931676f",
   "metadata": {},
   "outputs": [],
   "source": [
    "l"
   ]
  },
  {
   "cell_type": "code",
   "execution_count": null,
   "id": "4c8e98ba-82d8-4ea7-a36d-49ce0d10193b",
   "metadata": {},
   "outputs": [],
   "source": [
    "l = data.index.tolist()\n",
    "patient_no = [i.split('.')[1] for i in l]\n",
    "time_point = [i.split('.')[2] for i in l]"
   ]
  },
  {
   "cell_type": "code",
   "execution_count": null,
   "id": "23887940-2e69-4114-a368-7f27b41d8da9",
   "metadata": {},
   "outputs": [],
   "source": [
    "data['Patient_Name'] = patient_no \n",
    "data['Time_Point'] = time_point"
   ]
  },
  {
   "cell_type": "code",
   "execution_count": null,
   "id": "6c03427b-d135-4cb0-ac8a-2e62ef364552",
   "metadata": {},
   "outputs": [],
   "source": [
    "col_index= ['Patient_Name',\n",
    " 'Time_Point']+ data.columns.tolist()[0:-2]"
   ]
  },
  {
   "cell_type": "code",
   "execution_count": null,
   "id": "e76e12ba-cc2f-4226-8639-604445a49a58",
   "metadata": {},
   "outputs": [],
   "source": [
    "data = data[col_index]"
   ]
  },
  {
   "cell_type": "code",
   "execution_count": null,
   "id": "3959e0ac-b2a3-4d8f-a5ad-5bc670b6685d",
   "metadata": {},
   "outputs": [],
   "source": [
    "data = data.sort_values(by = 'Patient_Name', axis = 0)"
   ]
  },
  {
   "cell_type": "code",
   "execution_count": null,
   "id": "f4c2a0ef-c7f5-4da5-998d-ad58438328ba",
   "metadata": {},
   "outputs": [],
   "source": [
    "data"
   ]
  },
  {
   "cell_type": "code",
   "execution_count": null,
   "id": "76c5a8c7-37fc-4e8e-877b-66a05ff94ad5",
   "metadata": {},
   "outputs": [],
   "source": [
    "data.to_csv('../../../For_analysis/integrated_stress_response_expression.csv',index = False)"
   ]
  },
  {
   "cell_type": "code",
   "execution_count": null,
   "id": "89bcb657-147e-4522-ba7c-19ceffc8156c",
   "metadata": {},
   "outputs": [],
   "source": [
    "temp_meta = meta_data[['PATNO','DIAGNOSIS']].drop_duplicates()"
   ]
  },
  {
   "cell_type": "code",
   "execution_count": null,
   "id": "5aac5262-9187-49ac-bac2-ebd10831d1d5",
   "metadata": {},
   "outputs": [],
   "source": [
    "temp_meta.PATNO = temp_meta.PATNO.astype(str)"
   ]
  },
  {
   "cell_type": "code",
   "execution_count": null,
   "id": "239c9f44-a96e-4cdb-8720-82da47336d42",
   "metadata": {},
   "outputs": [],
   "source": [
    "data = pd.merge(data,temp_meta, left_on = 'Patient_Name', right_on = 'PATNO')"
   ]
  },
  {
   "cell_type": "code",
   "execution_count": null,
   "id": "18e1a335-9212-4c26-ac34-de011689879d",
   "metadata": {},
   "outputs": [],
   "source": [
    "keep_columns = ['DIAGNOSIS'] + data.columns.tolist()[0:-2]"
   ]
  },
  {
   "cell_type": "code",
   "execution_count": null,
   "id": "18bb9f63-0820-4f6e-bccd-e77a5bf6431f",
   "metadata": {},
   "outputs": [],
   "source": [
    "data = data[keep_columns]"
   ]
  },
  {
   "cell_type": "code",
   "execution_count": null,
   "id": "bd8fa98a-06ad-4050-aa67-d731d600b19d",
   "metadata": {},
   "outputs": [],
   "source": [
    "data"
   ]
  },
  {
   "cell_type": "code",
   "execution_count": null,
   "id": "96c3bfeb-859f-4eb9-a98a-a7a9c02d814f",
   "metadata": {
    "scrolled": true
   },
   "outputs": [],
   "source": [
    "data = data[data.DIAGNOSIS.isin(['PD','Control','Prodromal'])]"
   ]
  },
  {
   "cell_type": "code",
   "execution_count": null,
   "id": "4d523c44-d47a-4ddf-8b63-05fd8fca546f",
   "metadata": {},
   "outputs": [],
   "source": [
    "data"
   ]
  },
  {
   "cell_type": "code",
   "execution_count": null,
   "id": "3138edb2-69bb-4824-9313-4fec1284b5e5",
   "metadata": {},
   "outputs": [],
   "source": [
    "data.columns"
   ]
  },
  {
   "cell_type": "code",
   "execution_count": null,
   "id": "552183ab-6579-4c30-af46-b46552de366e",
   "metadata": {},
   "outputs": [],
   "source": [
    "# comapring control vs all time"
   ]
  },
  {
   "cell_type": "code",
   "execution_count": null,
   "id": "256b1ed1-9212-489f-b012-7738f823eb42",
   "metadata": {},
   "outputs": [],
   "source": [
    "data.DIAGNOSIS.value_counts()"
   ]
  },
  {
   "cell_type": "code",
   "execution_count": null,
   "id": "703716ff-df61-4a91-93cc-dcd837208eb3",
   "metadata": {},
   "outputs": [],
   "source": [
    "Control_sample = data[data.DIAGNOSIS == 'Control']"
   ]
  },
  {
   "cell_type": "code",
   "execution_count": null,
   "id": "fe21806d-9f29-4c5d-b86d-c76dd6b021de",
   "metadata": {},
   "outputs": [],
   "source": [
    "Control_sample.Time_Point.value_counts()"
   ]
  },
  {
   "cell_type": "code",
   "execution_count": null,
   "id": "fde3a444-93ff-4184-8d8b-ad7506b98a89",
   "metadata": {},
   "outputs": [],
   "source": [
    "PD_sample = data[data.DIAGNOSIS == 'PD']\n",
    "PD_sample.Time_Point.value_counts()"
   ]
  },
  {
   "cell_type": "code",
   "execution_count": null,
   "id": "2e1d4b40-b90f-47b2-b0d4-9d6cb09c3236",
   "metadata": {
    "scrolled": true
   },
   "outputs": [],
   "source": [
    "Prodromal_sample = data[data.DIAGNOSIS == 'Prodromal']\n",
    "Prodromal_sample.Time_Point.value_counts()"
   ]
  },
  {
   "cell_type": "code",
   "execution_count": null,
   "id": "18fb5ba4-fb74-4b51-b835-13fd8429f94a",
   "metadata": {},
   "outputs": [],
   "source": [
    "Control_sample = Control_sample.reset_index(drop=True)\n",
    "Control_sample "
   ]
  },
  {
   "cell_type": "code",
   "execution_count": null,
   "id": "99730949-0ee1-4eaf-896c-b751be522008",
   "metadata": {},
   "outputs": [],
   "source": [
    "Prodromal_sample = Prodromal_sample.reset_index(drop=True)\n",
    "Prodromal_sample"
   ]
  },
  {
   "cell_type": "code",
   "execution_count": null,
   "id": "1fcb96c3-7721-4f28-bd76-bd6aba91d61a",
   "metadata": {},
   "outputs": [],
   "source": [
    "PD_sample = PD_sample.reset_index(drop=True)\n",
    "PD_sample "
   ]
  },
  {
   "cell_type": "code",
   "execution_count": null,
   "id": "5290207a-b57e-41a7-aa6f-d0c94cce82d0",
   "metadata": {},
   "outputs": [],
   "source": [
    "elements = list(set(data.Time_Point))"
   ]
  },
  {
   "cell_type": "code",
   "execution_count": null,
   "id": "48ce52db-3bd6-4999-83d7-af9f0929bf1f",
   "metadata": {},
   "outputs": [],
   "source": [
    "import itertools\n",
    "\n",
    "# Define the list\n",
    "\n",
    "\n",
    "# Generate all combinations of 2 including reverse pairs\n",
    "combinations_with_reverse = list(itertools.product(elements, repeat=2))\n",
    "\n",
    "# Print the result\n",
    "for combo in combinations_with_reverse:\n",
    "    print(combo)\n"
   ]
  },
  {
   "cell_type": "markdown",
   "id": "37dafeaa-cafb-4a60-992c-9d0ec5568bb0",
   "metadata": {},
   "source": [
    "# A. all combination Control vs PRODROMAL"
   ]
  },
  {
   "cell_type": "code",
   "execution_count": null,
   "id": "7d0ad75a-93e3-4ced-a2bb-f6866f008b5a",
   "metadata": {
    "scrolled": true
   },
   "outputs": [],
   "source": [
    "import numpy as np\n",
    "import pandas as pd\n",
    "from sklearn.feature_selection import RFE\n",
    "from sklearn.model_selection import train_test_split\n",
    "from sklearn.linear_model import LogisticRegression\n",
    "from sklearn.metrics import accuracy_score\n",
    "import random\n",
    "import random\n",
    "import numpy as np\n",
    "import pandas as pd\n",
    "from sklearn.feature_selection import RFE\n",
    "from sklearn.model_selection import train_test_split\n",
    "from sklearn.linear_model import LogisticRegression\n",
    "from sklearn.metrics import accuracy_score, roc_auc_score, precision_score, recall_score, f1_score\n",
    "import random\n",
    "from itertools import product  # assuming combinations_with_reverse is some kind of product\n",
    "\n",
    "ACCURACY_DICT = dict()\n",
    "MAX_SAMPLES = dict()\n",
    "FEATURE_IMPORTANCES = dict()\n",
    "\n",
    "F1_SCORES = dict()\n",
    "PRECISION_SCORES = dict()\n",
    "RECALL_SCORES = dict()\n",
    "AUC_SCORES = dict()\n",
    "\n",
    "for combo in tqdm(combinations_with_reverse):\n",
    "    \n",
    "    PD_sample_ = PD_sample[PD_sample.Time_Point== combo[0]].iloc[:,3:]\n",
    "    PD_sample_ = PD_sample_.reset_index(drop = True)\n",
    "    \n",
    "    Control_sample_ = Control_sample[Control_sample.Time_Point== combo[1]].iloc[:,3:]\n",
    "    Control_sample_ = Control_sample_.reset_index(drop = True)\n",
    "\n",
    "    \n",
    "    accuracies_temp = []\n",
    "    auc_scores = []\n",
    "    precision_scores = []\n",
    "    recall_scores = []\n",
    "    f1_scores = []\n",
    "    \n",
    "    for i in range(1000):\n",
    "        \n",
    "        max_num = min(len(PD_sample_),len(Control_sample_))\n",
    "        \n",
    "        random_numbers = random.sample(range(0, max_num), max_num)\n",
    "        \n",
    "        PD_sample_temp = PD_sample_.iloc[random_numbers,:]\n",
    "        \n",
    "        Control_sample_temp = Control_sample_.iloc[random_numbers,:]\n",
    "        \n",
    "        X = pd.concat([PD_sample_temp,Control_sample_temp])\n",
    "        \n",
    "        y = [0 for i in range(len(PD_sample_temp))] + [1 for i in range(len(Control_sample_temp))]\n",
    "    \n",
    "    \n",
    "    # Stratified train-test split\n",
    "        X_train, X_test, y_train, y_test = train_test_split(\n",
    "            X, y, test_size=0.2, stratify=y, random_state=42\n",
    "        )\n",
    "        \n",
    "        # Initialize and fit the Logistic Regression model\n",
    "        model = LogisticRegression(max_iter=150000)\n",
    "        rfe = RFE(estimator=model,n_features_to_select=82)  # Select top 10 features, adjust as needed\n",
    "        X_train_rfe = rfe.fit_transform(X_train, y_train)\n",
    "        X_test_rfe = rfe.transform(X_test)\n",
    "\n",
    "\n",
    "        selected_features = X.columns[rfe.support_]\n",
    "        feature_ranks = rfe.ranking_\n",
    "        model.fit(X_train_rfe, y_train)\n",
    "        \n",
    "        # Predict and evaluate the model\n",
    "        y_pred = model.predict(X_test_rfe)\n",
    "        y_prob = model.predict_proba(X_test_rfe)[:, 1]  # probability for the positive class\n",
    "        \n",
    "        accuracy = accuracy_score(y_test, y_pred)\n",
    "        auc = roc_auc_score(y_test, y_prob)\n",
    "        precision = precision_score(y_test, y_pred)\n",
    "        recall = recall_score(y_test, y_pred)\n",
    "        f1 = f1_score(y_test, y_pred)\n",
    "\n",
    "        accuracies_temp.append(accuracy)\n",
    "        auc_scores.append(auc)\n",
    "        precision_scores.append(precision)\n",
    "        recall_scores.append(recall)\n",
    "        f1_scores.append(f1)\n",
    "        # Store feature names and scores for the first iteration only, to avoid redundancy\n",
    "        \n",
    "        coefficients = model.coef_.flatten()\n",
    "        feature_coefficients = dict(zip(selected_features, coefficients))\n",
    "        FEATURE_IMPORTANCES[f'PD_{combo[0]}_Control_{combo[1]}_{i}'] = feature_coefficients\n",
    "        \n",
    "        \n",
    "\n",
    "    ACCURACY_DICT[f'PD_{combo[0]}_control_{combo[1]}'] = np.mean(accuracies_temp)\n",
    "    MAX_SAMPLES[f'PD_{combo[0]}_control_{combo[1]}'] = max_num\n",
    "    PRECISION_SCORES[f'PD_{combo[0]}_control_{combo[1]}'] =  np.mean(precision_scores)\n",
    "    RECALL_SCORES[f'PD_{combo[0]}_control_{combo[1]}'] =  np.mean(recall_scores)\n",
    "    AUC_SCORES[f'PD_{combo[0]}_control_{combo[1]}'] =  np.mean(auc_scores)\n",
    "    \n",
    "    # Storing additional metrics\n",
    "    print(f\"Metrics for PD_{combo[0]}_control_{combo[1]}:\")\n",
    "    print(f\"Accuracy: {np.mean(accuracies_temp)}\")\n",
    "    print(f\"AUC: {np.mean(auc_scores)}\")\n",
    "    print(f\"Precision: {np.mean(precision_scores)}\")\n",
    "    print(f\"Recall: {np.mean(recall_scores)}\")\n",
    "    print(f\"F1 Score: {np.mean(f1_scores)}\")\n",
    "\n"
   ]
  },
  {
   "cell_type": "code",
   "execution_count": null,
   "id": "bc272d35-c0c3-4a5f-989b-49eaa5c508e1",
   "metadata": {},
   "outputs": [],
   "source": [
    "import pandas as pd\n",
    "import seaborn as sns\n",
    "import matplotlib.pyplot as plt\n",
    "\n",
    "Control= []\n",
    "PD= []\n",
    "auc = []\n",
    "for i,j in AUC_SCORES.items():\n",
    "    PD.append(i.split('_')[1])\n",
    "    Control.append(i.split('_')[-1])\n",
    "    auc.append(j)\n",
    "\n",
    "\n",
    "auc_table_pd_control  = pd.DataFrame([PD,Control,auc]).T\n",
    "auc_table_pd_control  = auc_table_pd_control.rename(columns = {0:'PD', 1:'control', 2: 'AUC'})\n",
    "\n",
    "auc_table_pd_control['AUC'] = auc_table_pd_control['AUC'].astype(float)\n",
    "heatmap_data_ = auc_table_pd_control.pivot(index=\"control\", columns=\"PD\", values=\"AUC\")\n",
    "\n",
    "# Plot the heatmap\n",
    "plt.figure(figsize=(8, 6))\n",
    "sns.heatmap(heatmap_data_, annot=True, cmap=\"coolwarm\", square=True, cbar_kws={'label': 'AUC'})\n",
    "plt.title(\"AUC Heatmap for vs PD vs Control Combinations\")\n",
    "plt.savefig(\"../heatmaps_plots/auc_heatmaps/integrated_stress_con_vs_pd_auc_heatmap.svg\", format='svg')\n",
    "\n",
    "plt.show()"
   ]
  },
  {
   "cell_type": "code",
   "execution_count": null,
   "id": "504d4861-b92d-4ce3-946b-b22c1c1d3a25",
   "metadata": {},
   "outputs": [],
   "source": [
    "import pandas as pd\n",
    "import seaborn as sns\n",
    "import matplotlib.pyplot as plt\n",
    "\n",
    "PD = []\n",
    "Control= []\n",
    "acc = []\n",
    "for i,j in ACCURACY_DICT.items():\n",
    "    PD.append(i.split('_')[1])\n",
    "    Control.append(i.split('_')[-1])\n",
    "    acc.append(j)\n",
    "\n",
    "\n",
    "accuracy_table_pd_control = pd.DataFrame([PD,Control,acc]).T\n",
    "accuracy_table_pd_control  = accuracy_table_pd_control.rename(columns = {0:'PD', 1:'control', 2: 'Accuracy'})\n",
    "\n",
    "accuracy_table_pd_control['Accuracy'] = accuracy_table_pd_control['Accuracy'].astype(float)\n",
    "heatmap_data_ = accuracy_table_pd_control.pivot(index=\"control\", columns=\"PD\", values=\"Accuracy\")\n",
    "\n",
    "# Plot the heatmap\n",
    "plt.figure(figsize=(8, 6))\n",
    "sns.heatmap(heatmap_data_, annot=True, cmap=\"coolwarm\", square=True, cbar_kws={'label': 'Accuracy'})\n",
    "plt.title(\"Accuracy Heatmap for PD vs Control Combinations\")\n",
    "plt.savefig(\"../heatmaps_plots/accuracy_heatmaps/integrated_stress_con_vs_pd_accuracy_heatmap.svg\", format='svg')\n",
    "\n",
    "plt.show()"
   ]
  },
  {
   "cell_type": "code",
   "execution_count": null,
   "id": "466e422c-96c9-4823-915e-bd8768480182",
   "metadata": {},
   "outputs": [],
   "source": [
    "df_acc = pd.DataFrame(list(ACCURACY_DICT.items()), columns=['Comparison', 'Accuracy'])\n",
    "df_auc = pd.DataFrame(list(AUC_SCORES.items()), columns=['Comparison', 'AUC'])\n",
    "#df_f1  = pd.DataFrame(list(F1_SCORES.items()), columns=['Comparison', 'F1'])\n",
    "df_precision = pd.DataFrame(list(PRECISION_SCORES.items()), columns=['Comparison', 'Precision'])\n",
    "df_recall = pd.DataFrame(list(RECALL_SCORES.items()), columns=['Comparison', 'Recall'])\n",
    "\n",
    "import pandas as pd\n",
    "from functools import reduce\n",
    "\n",
    "# List of DataFrames to merge\n",
    "dfs = [df_acc, df_auc, df_precision, df_recall]\n",
    "\n",
    "# Merge all DataFrames on 'Comparison'\n",
    "df_all = reduce(lambda left, right: pd.merge(left, right, on='Comparison'), dfs)\n",
    "\n",
    "df_all.to_csv('../metrics_csv_files/metrics_intergrated_stress_con_vs_pd.csv',index = False)"
   ]
  },
  {
   "cell_type": "code",
   "execution_count": null,
   "id": "eb9f655c-2bcd-41b1-9c07-ab6188f22230",
   "metadata": {},
   "outputs": [],
   "source": []
  },
  {
   "cell_type": "code",
   "execution_count": null,
   "id": "7258dd35-b75b-4e40-826c-e3dd17de3722",
   "metadata": {},
   "outputs": [],
   "source": [
    "import pandas as pd\n",
    "import seaborn as sns\n",
    "import matplotlib.pyplot as plt\n",
    "\n",
    "PD = []\n",
    "Control= []\n",
    "acc = []\n",
    "for i,j in ACCURACY_DICT.items():\n",
    "    PD.append(i.split('_')[1])\n",
    "    Control.append(i.split('_')[-1])\n",
    "    acc.append(j)\n",
    "\n",
    "\n",
    "accuracy_table_pd_control = pd.DataFrame([PD,Control,acc]).T\n",
    "accuracy_table_pd_control  = accuracy_table_pd_control.rename(columns = {0:'PD', 1:'control', 2: 'Accuracy'})\n",
    "\n",
    "accuracy_table_pd_control['Accuracy'] = accuracy_table_pd_control['Accuracy'].astype(float)\n",
    "heatmap_data_ = accuracy_table_pd_control.pivot(index=\"control\", columns=\"PD\", values=\"Accuracy\")\n",
    "\n",
    "# Plot the heatmap\n",
    "plt.figure(figsize=(8, 6))\n",
    "sns.heatmap(heatmap_data_, annot=True, cmap=\"coolwarm\", square=True, cbar_kws={'label': 'Accuracy'})\n",
    "plt.title(\"Accuracy Heatmap for PD vs Control Combinations\")\n",
    "plt.show()"
   ]
  },
  {
   "cell_type": "code",
   "execution_count": null,
   "id": "b869cd33-2820-4ae6-bd89-e364ff5203d2",
   "metadata": {},
   "outputs": [],
   "source": [
    "\n",
    "FEATURE_IMPORTANCES['PD_V08_Control_V08_0']\n",
    "sorted_0_dict_FEATURE_IMPORTANCES_asc = dict(sorted(FEATURE_IMPORTANCES['PD_V08_Control_V08_0'].items(), key=lambda item: item[1]))\n"
   ]
  },
  {
   "cell_type": "code",
   "execution_count": null,
   "id": "f2fc206e-f850-4650-aab2-5d158c5aba88",
   "metadata": {},
   "outputs": [],
   "source": [
    "sorted_0_dict_FEATURE_IMPORTANCES_asc"
   ]
  },
  {
   "cell_type": "code",
   "execution_count": null,
   "id": "1b8476f3-872e-4262-9b89-9e9a1cbeab9c",
   "metadata": {},
   "outputs": [],
   "source": [
    "sorted_2_dict_FEATURE_IMPORTANCES_asc = dict(sorted(FEATURE_IMPORTANCES['PD_V08_Control_V08_0'].items(), key=lambda item: item[1]))\n",
    "sorted_2_dict_FEATURE_IMPORTANCES_asc"
   ]
  },
  {
   "cell_type": "code",
   "execution_count": null,
   "id": "f81e233a-22b7-49eb-bfda-a9af4da1ed37",
   "metadata": {},
   "outputs": [],
   "source": [
    "data.DIAGNOSIS.value_counts()"
   ]
  },
  {
   "cell_type": "code",
   "execution_count": null,
   "id": "f0b0e105-13fd-4492-b258-1e26f4f8ee41",
   "metadata": {},
   "outputs": [],
   "source": [
    "data['DIAGNOSIS_2'] = data['DIAGNOSIS']"
   ]
  },
  {
   "cell_type": "code",
   "execution_count": null,
   "id": "183586fc-fbb8-4652-aa31-13fe675c0712",
   "metadata": {},
   "outputs": [],
   "source": [
    "data['DIAGNOSIS'].replace({'Control': '1.Control', 'PD': '2.Prodromal', 'PD': '3.PD'}, inplace=True)\n"
   ]
  },
  {
   "cell_type": "code",
   "execution_count": null,
   "id": "74feb625-2e50-46b2-be49-63c251d2005b",
   "metadata": {},
   "outputs": [],
   "source": [
    "data['New_Time_Point'] = data['DIAGNOSIS'] + '_' + data['Time_Point']\n",
    "data['New_Time_Point_2'] = data['DIAGNOSIS_2'] + '_' + data['Time_Point']"
   ]
  },
  {
   "cell_type": "code",
   "execution_count": null,
   "id": "0661abd5-c323-4fd5-84a9-ab53244a3fc3",
   "metadata": {},
   "outputs": [],
   "source": [
    "data = data.sort_values(by = 'New_Time_Point')"
   ]
  },
  {
   "cell_type": "code",
   "execution_count": null,
   "id": "4f3bf8da-80c2-4783-9b41-ae0438d4a811",
   "metadata": {},
   "outputs": [],
   "source": [
    "tmp_data = data[data.Time_Point !='V02']"
   ]
  },
  {
   "cell_type": "code",
   "execution_count": null,
   "id": "26fa1a5d-4846-47a3-92fe-7bceb614beca",
   "metadata": {},
   "outputs": [],
   "source": [
    "tmp_data"
   ]
  },
  {
   "cell_type": "code",
   "execution_count": null,
   "id": "70ab2646-e5a9-407d-8af9-c8566349909f",
   "metadata": {},
   "outputs": [],
   "source": [
    "df = pd.DataFrame(sorted_2_dict_FEATURE_IMPORTANCES_asc.items())\n",
    "df[2] = np.abs(df[1])\n",
    "df = df.sort_values(by = 2, ascending=False)\n",
    "df"
   ]
  },
  {
   "cell_type": "code",
   "execution_count": null,
   "id": "0bb49a74-e937-4397-b831-fb99ed182246",
   "metadata": {},
   "outputs": [],
   "source": [
    "tmp_data"
   ]
  },
  {
   "cell_type": "code",
   "execution_count": null,
   "id": "c10499ae-2fcc-4a5c-8e97-31f29cf9713b",
   "metadata": {},
   "outputs": [],
   "source": [
    "tmp_data.New_Time_Point_2.unique()"
   ]
  },
  {
   "cell_type": "code",
   "execution_count": null,
   "id": "bab1a305-6608-4b22-8b07-dfd76d06fe38",
   "metadata": {},
   "outputs": [],
   "source": [
    "genes = keep_genes"
   ]
  },
  {
   "cell_type": "code",
   "execution_count": null,
   "id": "e2413e4a-da3e-4f22-b141-c8da4312b303",
   "metadata": {},
   "outputs": [],
   "source": [
    "control_tmp_data = tmp_data[tmp_data['New_Time_Point_2'].str.startswith('Control')]\n",
    "control_tmp_data = control_tmp_data.sort_values(by = 'New_Time_Point') \n",
    "control_tmp_data"
   ]
  },
  {
   "cell_type": "code",
   "execution_count": null,
   "id": "b3fb22e2-ed7f-4c2a-93d9-a550b32d6fdd",
   "metadata": {},
   "outputs": [],
   "source": [
    "for i,j in results.iterrows():\n",
    "    print(j['Gene name'])"
   ]
  },
  {
   "cell_type": "code",
   "execution_count": null,
   "id": "a4b8f7a3-110d-4e3c-9546-945a585def7b",
   "metadata": {},
   "outputs": [],
   "source": [
    "'FGF2' in list(set(results['Gene name']))"
   ]
  },
  {
   "cell_type": "code",
   "execution_count": null,
   "id": "632b81e1-821c-4d3d-967b-ec9dbe3e1d45",
   "metadata": {},
   "outputs": [],
   "source": [
    "def return_gene_name(ensembleid):\n",
    "\n",
    "    try:\n",
    "        m =  results[results['Gene stable ID'] == ensembleid]['Gene name'].values[0]\n",
    "        return m\n",
    "    except:\n",
    "        print(ensembleid)\n",
    "        return ensembleid\n"
   ]
  },
  {
   "cell_type": "code",
   "execution_count": null,
   "id": "71543ae5-cbc9-49f2-9ed2-928544d3b398",
   "metadata": {},
   "outputs": [],
   "source": [
    "import numpy as np\n",
    "for i in genes:\n",
    "    if return_gene_name(i) != np.nan:\n",
    "        print(i, return_gene_name(i))\n",
    "    else:\n",
    "        print('*'*100)"
   ]
  },
  {
   "cell_type": "code",
   "execution_count": null,
   "id": "626fe384-9ef0-4288-a9bb-4c76e3b6b6fe",
   "metadata": {},
   "outputs": [],
   "source": [
    "!mkdir isr_trajectory_plots_for_manuscript"
   ]
  },
  {
   "cell_type": "code",
   "execution_count": null,
   "id": "392d1781-efed-40df-bcf4-48b5e21b21a1",
   "metadata": {
    "scrolled": true
   },
   "outputs": [],
   "source": [
    "import matplotlib.pyplot as plt\n",
    "\n",
    "# Loop through each gene\n",
    "for gene in genes:\n",
    "    # Create a new figure for each gene\n",
    "    plt.figure(figsize=(12, 8))\n",
    "    \n",
    "    # Define a list to store the group data\n",
    "    groups = ['Control', 'Prodromal', 'PD']\n",
    "    colors = {'Control': 'blue', 'Prodromal': 'orange', 'PD': 'green'}\n",
    "    \n",
    "    for group in groups:\n",
    "        # Filter and sort data by group\n",
    "        group_tmp_data = tmp_data[tmp_data['New_Time_Point_2'].str.startswith(group)]\n",
    "        group_tmp_data = group_tmp_data.sort_values(by='New_Time_Point')\n",
    "        \n",
    "        # Calculate mean and standard deviation\n",
    "        mean_expression = group_tmp_data.groupby('New_Time_Point')[gene].mean()\n",
    "        std_expression = group_tmp_data.groupby('New_Time_Point')[gene].std()\n",
    "        \n",
    "        # Extract clean time points\n",
    "        index = [i.split('_')[1] for i in mean_expression.index]\n",
    "        \n",
    "        # Plot mean expression\n",
    "        plt.plot(index, mean_expression, color=colors[group], label=f'{group} Mean Expression')\n",
    "        \n",
    "        # Fill the standard deviation area\n",
    "        plt.fill_between(index,\n",
    "                         mean_expression - std_expression,\n",
    "                         mean_expression + std_expression,\n",
    "                         color=colors[group], alpha=0.2, label=f'{group} ± STD')\n",
    "    \n",
    "    # Customize plot\n",
    "    plt.xlabel('Time')\n",
    "    plt.ylabel('Gene Expression')\n",
    "    gene  = return_gene_name(gene)\n",
    "    plt.title(f'Mean Expression of {gene} Over Time Across Groups')\n",
    "    plt.xticks(rotation=45)\n",
    "    plt.legend()\n",
    "    plt.grid(True)\n",
    "    plt.tight_layout()\n",
    "    plt.savefig(f'isr_trajectory_plots_for_manuscript/{gene}.pdf', format='pdf')\n",
    "    # Show the plot\n",
    "    plt.show()\n",
    "\n"
   ]
  },
  {
   "cell_type": "code",
   "execution_count": null,
   "id": "27211ea3-ed96-466a-9db2-e670a25e144a",
   "metadata": {},
   "outputs": [],
   "source": [
    "from PyPDF2 import PdfMerger\n",
    "import os\n",
    "\n",
    "# Specify the directory where your PDF files are located\n",
    "pdf_directory = 'isr_trajectory_plots_for_manuscript/'  # Replace with your directory path\n",
    "\n",
    "# Create a PDF merger object\n",
    "merger = PdfMerger()\n",
    "\n",
    "# Loop through all PDF files in the directory\n",
    "for filename in sorted(os.listdir(pdf_directory )):\n",
    "    if filename.endswith('.pdf'):  # Only consider PDF files\n",
    "        file_path = os.path.join(pdf_directory, filename)\n",
    "        # Append each PDF to the merger object\n",
    "        merger.append(file_path)\n",
    "\n",
    "# Specify the output path for the merged PDF\n",
    "output_pdf = 'isr_trajectory_plots_for_manuscript/integrated_gene_expression_time_Series.pdf'\n",
    "\n",
    "# Write the merged PDF to the output file\n",
    "merger.write(output_pdf)\n",
    "\n",
    "# Close the merger object\n",
    "merger.close()\n",
    "\n",
    "print(f\"PDF files merged successfully into {output_pdf}\")"
   ]
  },
  {
   "cell_type": "code",
   "execution_count": null,
   "id": "07c38e46-5649-4bec-a8f9-c6898dd4844a",
   "metadata": {
    "scrolled": true
   },
   "outputs": [],
   "source": [
    "FEATURE_IMPORTANCES.keys()"
   ]
  },
  {
   "cell_type": "code",
   "execution_count": null,
   "id": "76ab90cd-3713-453d-a1f2-b85fe9e1e9db",
   "metadata": {},
   "outputs": [],
   "source": [
    "compare_list = [ 'PD_BL_Control_BL',  'PD_V02_Control_V02' ,'PD_V04_Control_V04','PD_V06_Control_V06', 'PD_V08_Control_V08']"
   ]
  },
  {
   "cell_type": "code",
   "execution_count": null,
   "id": "7645175b-287a-4c53-9476-ff65f6db9cfb",
   "metadata": {},
   "outputs": [],
   "source": [
    "compare_list"
   ]
  },
  {
   "cell_type": "code",
   "execution_count": null,
   "id": "e31ec5a9-1591-4ebd-8fa7-bf35f9c0f766",
   "metadata": {},
   "outputs": [],
   "source": [
    "FEATURE_IMPORTANCES_PD_BL_Control_BL = dict()\n",
    "FEATURE_IMPORTANCES_PD_V02_Control_V02 = dict()\n",
    "FEATURE_IMPORTANCES_PD_V04_Control_V04 = dict()\n",
    "FEATURE_IMPORTANCES_PD_V06_Control_V06 = dict()\n",
    "FEATURE_IMPORTANCES_PD_V08_Control_V08 = dict()\n",
    "\n",
    "for i in FEATURE_IMPORTANCES.keys():\n",
    "    if 'PD_BL_Control_BL' in i:\n",
    "        FEATURE_IMPORTANCES_PD_BL_Control_BL[i] = FEATURE_IMPORTANCES[i]\n",
    "\n",
    "    elif 'PD_V02_Control_V02' in i:\n",
    "        FEATURE_IMPORTANCES_PD_V02_Control_V02[i] = FEATURE_IMPORTANCES[i]\n",
    "\n",
    "    elif 'PD_V04_Control_V04' in i:\n",
    "        FEATURE_IMPORTANCES_PD_V04_Control_V04[i] = FEATURE_IMPORTANCES[i]\n",
    "\n",
    "    elif 'PD_V06_Control_V06' in i:\n",
    "        FEATURE_IMPORTANCES_PD_V06_Control_V06[i] = FEATURE_IMPORTANCES[i]\n",
    "\n",
    "    elif 'PD_V08_Control_V08' in i:\n",
    "        FEATURE_IMPORTANCES_PD_V08_Control_V08[i] = FEATURE_IMPORTANCES[i]\n",
    "        \n",
    "        "
   ]
  },
  {
   "cell_type": "code",
   "execution_count": null,
   "id": "6cfea2a5-e432-4900-bccc-b7de264371a5",
   "metadata": {},
   "outputs": [],
   "source": [
    "list(FEATURE_IMPORTANCES_PD_BL_Control_BL.keys())[:10]"
   ]
  },
  {
   "cell_type": "code",
   "execution_count": null,
   "id": "632dbc61-3691-4384-9698-fc4c94c485ae",
   "metadata": {},
   "outputs": [],
   "source": [
    "genes_list = list(FEATURE_IMPORTANCES_PD_BL_Control_BL['PD_BL_Control_BL_0'].keys())\n",
    "genes_list[0:10]"
   ]
  },
  {
   "cell_type": "code",
   "execution_count": null,
   "id": "91b7a30c-f7dd-406a-882a-8c3896b90cf4",
   "metadata": {},
   "outputs": [],
   "source": [
    "len(FEATURE_IMPORTANCES_PD_BL_Control_BL.keys())"
   ]
  },
  {
   "cell_type": "code",
   "execution_count": null,
   "id": "10d2f1c7-1cea-4eba-87df-1822d21bae49",
   "metadata": {},
   "outputs": [],
   "source": [
    "AVG_FEATURE_IMPORTANCES_PD_BL_Control_BL = dict()\n",
    "for i in genes_list:\n",
    "    s = 0\n",
    "    for k in FEATURE_IMPORTANCES_PD_BL_Control_BL.keys():\n",
    "        s += FEATURE_IMPORTANCES_PD_BL_Control_BL[k][i]\n",
    "    s = s/len(FEATURE_IMPORTANCES_PD_BL_Control_BL.keys())\n",
    "    AVG_FEATURE_IMPORTANCES_PD_BL_Control_BL[i] = s\n",
    "\n",
    "\n",
    "AVG_FEATURE_IMPORTANCES_PD_V02_Control_V02 = dict()\n",
    "for i in genes_list:\n",
    "    s = 0\n",
    "    for k in FEATURE_IMPORTANCES_PD_V02_Control_V02.keys():\n",
    "        s += FEATURE_IMPORTANCES_PD_V02_Control_V02[k][i]\n",
    "    s = s/len(FEATURE_IMPORTANCES_PD_V02_Control_V02.keys())\n",
    "    AVG_FEATURE_IMPORTANCES_PD_V02_Control_V02[i] = s\n",
    "\n",
    "\n",
    "AVG_FEATURE_IMPORTANCES_PD_V04_Control_V04 = dict()\n",
    "for i in genes_list:\n",
    "    s = 0\n",
    "    for k in FEATURE_IMPORTANCES_PD_V04_Control_V04.keys():\n",
    "        s += FEATURE_IMPORTANCES_PD_V04_Control_V04[k][i]\n",
    "    s = s/len(FEATURE_IMPORTANCES_PD_V04_Control_V04.keys())\n",
    "    AVG_FEATURE_IMPORTANCES_PD_V04_Control_V04[i] = s\n",
    "\n",
    "\n",
    "AVG_FEATURE_IMPORTANCES_PD_V06_Control_V06 = dict()\n",
    "for i in genes_list:\n",
    "    s = 0\n",
    "    for k in FEATURE_IMPORTANCES_PD_V06_Control_V06.keys():\n",
    "        s += FEATURE_IMPORTANCES_PD_V06_Control_V06[k][i]\n",
    "    s = s/len(FEATURE_IMPORTANCES_PD_V06_Control_V06.keys())\n",
    "    AVG_FEATURE_IMPORTANCES_PD_V06_Control_V06[i] = s\n",
    "\n",
    "\n",
    "AVG_FEATURE_IMPORTANCES_PD_V08_Control_V08 = dict()\n",
    "for i in genes_list:\n",
    "    s = 0\n",
    "    for k in FEATURE_IMPORTANCES_PD_V08_Control_V08.keys():\n",
    "        s += FEATURE_IMPORTANCES_PD_V08_Control_V08[k][i]\n",
    "    s = s/len(FEATURE_IMPORTANCES_PD_V08_Control_V08.keys())\n",
    "    AVG_FEATURE_IMPORTANCES_PD_V08_Control_V08[i] = s\n",
    "      "
   ]
  },
  {
   "cell_type": "code",
   "execution_count": null,
   "id": "5a199764-4c3d-489b-9dc3-1e22883f4c4a",
   "metadata": {},
   "outputs": [],
   "source": [
    "FEATURE_IMPORTANCES_MERGE = dict()\n",
    "FEATURE_IMPORTANCES_MERGE['PD_BL_Control_BL'] = AVG_FEATURE_IMPORTANCES_PD_BL_Control_BL\n",
    "FEATURE_IMPORTANCES_MERGE['PD_V02_Control_V02'] = AVG_FEATURE_IMPORTANCES_PD_V02_Control_V02\n",
    "FEATURE_IMPORTANCES_MERGE['PD_V04_Control_V04'] = AVG_FEATURE_IMPORTANCES_PD_V04_Control_V04\n",
    "FEATURE_IMPORTANCES_MERGE['PD_V06_Control_V06'] = AVG_FEATURE_IMPORTANCES_PD_V06_Control_V06\n",
    "FEATURE_IMPORTANCES_MERGE['PD_V08_Control_V08'] = AVG_FEATURE_IMPORTANCES_PD_V08_Control_V08\n"
   ]
  },
  {
   "cell_type": "code",
   "execution_count": null,
   "id": "1c4ce288-8bb9-4d86-99ee-68be53168b55",
   "metadata": {},
   "outputs": [],
   "source": [
    "ranking_of_features = []\n",
    "for i in compare_list:\n",
    "\n",
    "\n",
    "    df = pd.DataFrame(FEATURE_IMPORTANCES_MERGE[i].items())\n",
    "    df[2] = np.abs(df[1])\n",
    "    df = df.sort_values(by = 2, ascending=False)\n",
    "    print(df)\n",
    "    ranking_of_features.append(df[0].tolist())\n"
   ]
  },
  {
   "cell_type": "code",
   "execution_count": null,
   "id": "bdadb768-6dd1-465a-806c-3dcd10c0c0c5",
   "metadata": {},
   "outputs": [],
   "source": [
    "ranking_of_features[4][0:10]"
   ]
  },
  {
   "cell_type": "code",
   "execution_count": null,
   "id": "9ff3433e-95a0-47bf-9825-a19daefc0232",
   "metadata": {},
   "outputs": [],
   "source": [
    "gene_lists = ranking_of_features"
   ]
  },
  {
   "cell_type": "code",
   "execution_count": null,
   "id": "704740a5-6082-484b-934e-684f24d4f15b",
   "metadata": {
    "scrolled": true
   },
   "outputs": [],
   "source": [
    "gene_lists[0:10]"
   ]
  },
  {
   "cell_type": "code",
   "execution_count": null,
   "id": "f1abe0f0-9618-4f19-aa22-023d50c43e04",
   "metadata": {},
   "outputs": [],
   "source": [
    "gene_indices = {}\n",
    "\n",
    "# Loop through each list and index each gene\n",
    "for list_idx, gene_list in enumerate(gene_lists):\n",
    "    for gene_idx, gene in enumerate(gene_list):\n",
    "        # Initialize the gene's entry if not present\n",
    "        if gene not in gene_indices:\n",
    "            gene_indices[gene] = [-1] * len(gene_lists)  # Default -1 for lists where gene is absent\n",
    "        # Update the index of the gene in the current list\n",
    "        gene_indices[gene][list_idx] = gene_idx\n",
    "\n",
    "# Display results\n",
    "for gene, indices in gene_indices.items():\n",
    "    print(f\"{gene}: {indices}\")"
   ]
  },
  {
   "cell_type": "code",
   "execution_count": null,
   "id": "b19ad3b8-5edf-4362-9cc3-b73ac906fa34",
   "metadata": {},
   "outputs": [],
   "source": [
    "ranking_df = pd.DataFrame(gene_indices).T\n",
    "ranking_df.columns = ['BL','V02','V04','V06','V08']\n"
   ]
  },
  {
   "cell_type": "code",
   "execution_count": null,
   "id": "ead57b86-fd78-4f41-921f-01a4394268f5",
   "metadata": {},
   "outputs": [],
   "source": [
    "def return_gene_name(ensembleid):\n",
    "\n",
    "    try:\n",
    "        return results[results['Gene stable ID'] == ensembleid]['Gene name'].values[0]\n",
    "    except:\n",
    "        return np.nan"
   ]
  },
  {
   "cell_type": "code",
   "execution_count": null,
   "id": "a5a9fcac-cc15-45ec-8296-c932ddbe471e",
   "metadata": {},
   "outputs": [],
   "source": [
    "tmp_df = ranking_df.reset_index()\n",
    "ranking_df['Gene_Name'] =tmp_df['index'].apply(return_gene_name).tolist()"
   ]
  },
  {
   "cell_type": "code",
   "execution_count": null,
   "id": "77231425-c976-4cec-88d9-64f9664105d9",
   "metadata": {},
   "outputs": [],
   "source": [
    "ranking_df[ranking_df.Gene_Name.isna()]"
   ]
  },
  {
   "cell_type": "code",
   "execution_count": null,
   "id": "4b9189f2-7ee9-4a69-96bc-d4414cf86469",
   "metadata": {},
   "outputs": [],
   "source": []
  },
  {
   "cell_type": "code",
   "execution_count": null,
   "id": "5496a098-527f-4606-ac5a-36a81629c1e2",
   "metadata": {},
   "outputs": [],
   "source": [
    "ranking_df.loc['ENSG00000116044','Gene_Name'] = 'NFE2L2'\n",
    "ranking_df.loc['ENSG00000183454','Gene_Name'] ='GRIN2A'\n",
    "ranking_df.loc['ENSG00000105549','Gene_Name'] = 'THEG'\n",
    "ranking_df.loc['ENSG00000149295','Gene_Name'] = 'DRD2'\n",
    "ranking_df.loc['ENSG00000138685','Gene_Name'] =  'FGF2'"
   ]
  },
  {
   "cell_type": "code",
   "execution_count": null,
   "id": "de5e4092-021e-4b66-a521-1bff027ad153",
   "metadata": {},
   "outputs": [],
   "source": [
    "ranking_df.set_index('Gene_Name',inplace=True)\n",
    "ranking_df"
   ]
  },
  {
   "cell_type": "code",
   "execution_count": null,
   "id": "a3fa6184-eac3-4497-8336-12820d18f958",
   "metadata": {},
   "outputs": [],
   "source": [
    "ranking_df.to_csv('ranking_df/Integrated_stress_control_to_pd_ranking_df.csv', index=True)\n",
    "ranking_df.head()"
   ]
  },
  {
   "cell_type": "code",
   "execution_count": null,
   "id": "6aba91c4-632b-46f1-84ed-55f83e5166f5",
   "metadata": {},
   "outputs": [],
   "source": [
    "subset_dict = {key: gene_indices[key] for key in ranking_of_features[4] if key in gene_indices}\n",
    "\n",
    "print(subset_dict)"
   ]
  },
  {
   "cell_type": "code",
   "execution_count": null,
   "id": "15304584-d657-41a8-86d7-e3ae5fc87eee",
   "metadata": {},
   "outputs": [],
   "source": [
    "gene_ranks = subset_dict"
   ]
  },
  {
   "cell_type": "code",
   "execution_count": null,
   "id": "41a9b646-694a-4a6b-ae74-8e39073c6291",
   "metadata": {},
   "outputs": [],
   "source": [
    "len(subset_dict)"
   ]
  },
  {
   "cell_type": "code",
   "execution_count": null,
   "id": "76cffc4b-3570-4c39-ac9e-af8abde4ff89",
   "metadata": {},
   "outputs": [],
   "source": [
    "# Original dictionary with gene rankings\n",
    "'''gene_ranks = subset_dict\n",
    "\n",
    "\n",
    "# Flatten the list to find the min and max values across all rankings\n",
    "all_ranks = [rank for ranks in gene_ranks.values() for rank in ranks]\n",
    "min_rank, max_rank = min(all_ranks), max(all_ranks)\n",
    "\n",
    "# Normalize each ranking\n",
    "normalized_gene_ranks = {\n",
    "    gene: [(rank - min_rank) / (max_rank - min_rank) * 10 for rank in ranks]\n",
    "    for gene, ranks in gene_ranks.items()\n",
    "}\n",
    "\n",
    "# Display the normalized rankings\n",
    "for gene, normalized_ranks in normalized_gene_ranks.items():\n",
    "    print(f\"{gene}: {normalized_ranks}\")'''\n"
   ]
  },
  {
   "cell_type": "code",
   "execution_count": null,
   "id": "32a430e5-e603-4c44-99e9-f1c9c633f48d",
   "metadata": {},
   "outputs": [],
   "source": [
    "df = pd.DataFrame(gene_ranks).T\n",
    "df"
   ]
  },
  {
   "cell_type": "code",
   "execution_count": null,
   "id": "7d8af5fe-35bd-4fbb-a096-0a919b4c03a9",
   "metadata": {},
   "outputs": [],
   "source": [
    "df"
   ]
  },
  {
   "cell_type": "code",
   "execution_count": null,
   "id": "361e6a3f-f1e1-43a5-914c-1b04278b4975",
   "metadata": {},
   "outputs": [],
   "source": [
    "def return_gene_name(ensembleid):\n",
    "\n",
    "    try:\n",
    "        return results[results['Gene stable ID'] == ensembleid]['Gene name'].values[0]\n",
    "    except:\n",
    "        return np.nan"
   ]
  },
  {
   "cell_type": "code",
   "execution_count": null,
   "id": "29d0af6f-4ade-45e8-842d-1cd23d7c5dcc",
   "metadata": {},
   "outputs": [],
   "source": [
    "tmp_df = df.reset_index()\n",
    "df['Gene_Name'] =tmp_df['index'].apply(return_gene_name).tolist()"
   ]
  },
  {
   "cell_type": "code",
   "execution_count": null,
   "id": "abf42cad-49f0-418f-b420-e20741931860",
   "metadata": {},
   "outputs": [],
   "source": [
    "df[df.Gene_Name.isna()]"
   ]
  },
  {
   "cell_type": "code",
   "execution_count": null,
   "id": "87cea610-f334-4bfb-91db-3cdaa2c1bac1",
   "metadata": {},
   "outputs": [],
   "source": [
    "df.loc['ENSG00000116044','Gene_Name'] = 'NFE2L2'\n",
    "df.loc['ENSG00000183454','Gene_Name'] ='GRIN2A'\n",
    "df.loc['ENSG00000105549','Gene_Name'] = 'THEG'\n",
    "df.loc['ENSG00000149295','Gene_Name'] = 'DRD2'\n",
    "df.loc['ENSG00000138685','Gene_Name'] =  'FGF2'"
   ]
  },
  {
   "cell_type": "code",
   "execution_count": null,
   "id": "1e0c5c33-9ec2-4b03-b17f-2f81e3468740",
   "metadata": {},
   "outputs": [],
   "source": [
    "df.set_index('Gene_Name',inplace=True)"
   ]
  },
  {
   "cell_type": "code",
   "execution_count": null,
   "id": "7a3ce68c-3c9d-4b0a-bf95-3b76833d0f14",
   "metadata": {},
   "outputs": [],
   "source": [
    "ranked_df = df.rank(axis=0, method='min').astype(int)\n",
    "\n",
    "print(ranked_df)"
   ]
  },
  {
   "cell_type": "code",
   "execution_count": null,
   "id": "3caf7501-955b-464c-89c4-53ec79ff1b6b",
   "metadata": {},
   "outputs": [],
   "source": [
    "reversed_ranks = ranked_df .max() - ranked_df  + 1\n",
    "\n",
    "print(reversed_ranks)"
   ]
  },
  {
   "cell_type": "code",
   "execution_count": null,
   "id": "213ab380-3a2f-4faa-88b7-c2c2fc846404",
   "metadata": {},
   "outputs": [],
   "source": [
    "rank_dict = reversed_ranks.T.to_dict(orient='list')\n",
    "rank_dict"
   ]
  },
  {
   "cell_type": "code",
   "execution_count": null,
   "id": "3cbd529b-6f61-4e5d-a15b-180ddfb50ccb",
   "metadata": {},
   "outputs": [],
   "source": [
    "import matplotlib.pyplot as plt\n",
    "import networkx as nx\n",
    "\n",
    "# The rank positions for each gene across four layers\n",
    "gene_ranks = rank_dict\n",
    "\n",
    "G = nx.DiGraph()\n",
    "\n",
    "# Number of layers\n",
    "num_layers = len(next(iter(gene_ranks.values())))\n",
    "\n",
    "# Add nodes and edges for each gene across the layers\n",
    "for gene, ranks in gene_ranks.items():\n",
    "    for layer in range(num_layers - 1):\n",
    "        # Add nodes for the gene at each layer with unique identifiers\n",
    "        current_node = f\"{gene}_L{layer}\"\n",
    "        next_node = f\"{gene}_L{layer + 1}\"\n",
    "        G.add_node(current_node, layer=layer, rank=ranks[layer])\n",
    "        G.add_node(next_node, layer=layer + 1, rank=ranks[layer + 1])\n",
    "        \n",
    "        # Add a directed edge to show rank progression between layers\n",
    "        G.add_edge(current_node, next_node)\n",
    "\n",
    "# Position nodes to show each layer vertically\n",
    "pos = {}\n",
    "layer_spacing = 1.5  # Space between layers\n",
    "rank_spacing = 0.3   # Space between ranks in a layer\n",
    "\n",
    "for node, data in G.nodes(data=True):\n",
    "    layer = data['layer']\n",
    "    rank = data['rank']\n",
    "    pos[node] = (layer * layer_spacing, -rank * rank_spacing)\n",
    "\n",
    "# Draw the graph\n",
    "plt.figure(figsize=(10, 15))\n",
    "nx.draw(G, pos, with_labels=True, node_size=50, font_size=8, arrowstyle='->', arrowsize=10, node_color=\"skyblue\", edge_color=\"gray\")\n",
    "\n",
    "plt.title(\"Gene Rank Progression Across Layers\")\n",
    "plt.xlabel(\"Layers\")\n",
    "plt.ylabel(\"Rank (Higher is lower on graph)\")\n",
    "plt.gca().invert_yaxis()  # To have higher ranks visually lower\n",
    "plt.show()"
   ]
  },
  {
   "cell_type": "code",
   "execution_count": null,
   "id": "b4bd1d70-f4ac-46bb-99f5-593e44c8743e",
   "metadata": {},
   "outputs": [],
   "source": [
    "import matplotlib.pyplot as plt\n",
    "import networkx as nx\n",
    "\n",
    "# Example rank dictionary (you should replace this with your actual rank_dict)\n",
    "\n",
    "# Create the directed graph\n",
    "G = nx.DiGraph()\n",
    "\n",
    "# Number of layers (based on the length of the rank list)\n",
    "num_layers = len(next(iter(rank_dict.values())))\n",
    "\n",
    "# Add the start node before the first layer\n",
    "start_node = \"StartNode\"\n",
    "G.add_node(start_node, layer=-1, rank=0)  # Layer -1 to indicate it's before the first layer\n",
    "\n",
    "# Add nodes and edges for each gene across the layers\n",
    "for gene, ranks in rank_dict.items():\n",
    "    for layer in range(num_layers - 1):\n",
    "        # Add nodes for the gene at each layer with unique identifiers\n",
    "        current_node = f\"{gene}_L{layer}\"\n",
    "        next_node = f\"{gene}_L{layer + 1}\"\n",
    "        G.add_node(current_node, layer=layer, rank=ranks[layer])\n",
    "        G.add_node(next_node, layer=layer + 1, rank=ranks[layer + 1])\n",
    "        \n",
    "        # Add a directed edge to show rank progression between layers\n",
    "        G.add_edge(current_node, next_node)\n",
    "    \n",
    "    # Add edges from the start node to the first layer nodes\n",
    "    first_layer_node = f\"{gene}_L0\"\n",
    "    G.add_edge(start_node, first_layer_node)\n",
    "\n",
    "# Position nodes to show each layer vertically\n",
    "pos = {}\n",
    "layer_spacing = 1.5  # Space between layers\n",
    "rank_spacing = 0.3   # Space between ranks in a layer\n",
    "\n",
    "for node, data in G.nodes(data=True):\n",
    "    layer = data['layer']\n",
    "    rank = data['rank']\n",
    "    pos[node] = (layer * layer_spacing, -rank * rank_spacing)\n",
    "\n",
    "# Draw the graph\n",
    "plt.figure(figsize=(10, 15))\n",
    "nx.draw(G, pos, with_labels=True, node_size=50, font_size=8, arrowstyle='->', arrowsize=10, node_color=\"skyblue\", edge_color=\"gray\")\n",
    "\n",
    "# Title and labels\n",
    "plt.title(\"Gene Rank Progression Across Layers with StartNode\")\n",
    "plt.xlabel(\"Layers\")\n",
    "plt.ylabel(\"Rank (Higher is lower on graph)\")\n",
    "plt.gca().invert_yaxis()  # To have higher ranks visually lower\n",
    "plt.savefig(\"gene_rank_progression.svg\", format=\"svg\")\n",
    "plt.show()\n"
   ]
  },
  {
   "cell_type": "code",
   "execution_count": null,
   "id": "03aabdda-5e04-4c44-92d0-7719c557d921",
   "metadata": {},
   "outputs": [],
   "source": [
    "import matplotlib.pyplot as plt\n",
    "import networkx as nx\n",
    "\n",
    "# Example rank dictionary (you should replace this with your actual rank_dict)\n",
    "\n",
    "\n",
    "\n",
    "# Create the directed graph\n",
    "G = nx.DiGraph()\n",
    "\n",
    "# Number of layers (based on the length of the rank list)\n",
    "num_layers = len(next(iter(rank_dict.values())))\n",
    "\n",
    "# Add the start node before the first layer\n",
    "start_node = \"StartNode\"\n",
    "G.add_node(start_node, layer=-1, rank=0)  # Layer -1 to indicate it's before the first layer\n",
    "\n",
    "# Add nodes and edges for each gene across the layers\n",
    "for gene, ranks in rank_dict.items():\n",
    "    for layer in range(num_layers - 1):\n",
    "        # Add nodes for the gene at each layer with unique identifiers\n",
    "        current_node = f\"{gene}_L{layer}\"\n",
    "        next_node = f\"{gene}_L{layer + 1}\"\n",
    "        G.add_node(current_node, layer=layer, rank=ranks[layer])\n",
    "        G.add_node(next_node, layer=layer + 1, rank=ranks[layer + 1])\n",
    "        \n",
    "        # Add a directed edge to show rank progression between layers\n",
    "        G.add_edge(current_node, next_node)\n",
    "    \n",
    "    # Add edges from the start node to the first layer nodes\n",
    "    first_layer_node = f\"{gene}_L0\"\n",
    "    G.add_edge(start_node, first_layer_node)\n",
    "\n",
    "# Position nodes to show each layer vertically\n",
    "pos = {}\n",
    "layer_spacing = 1.5  # Space between layers\n",
    "rank_spacing = 0.3   # Space between ranks in a layer\n",
    "\n",
    "# Set the position of the StartNode to be at the mid-left of the first layer\n",
    "start_node_x_pos = -5 # Fixed position on the left\n",
    "start_node_y_pos = -1.5  # Middle of first layer vertically\n",
    "\n",
    "# Position the nodes\n",
    "for node, data in G.nodes(data=True):\n",
    "    layer = data['layer']\n",
    "    rank = data['rank']\n",
    "    \n",
    "    if layer == -1:\n",
    "        # Place the StartNode on the mid-left of the first layer\n",
    "        pos[node] = (start_node_x_pos, start_node_y_pos)\n",
    "    else:\n",
    "        # Place other nodes based on their layer and rank\n",
    "        pos[node] = (layer * layer_spacing, -rank * rank_spacing)\n",
    "\n",
    "# Draw the graph\n",
    "plt.figure(figsize=(30, 30))\n",
    "nx.draw(G, pos, with_labels=True, node_size=150, font_size=16, arrowstyle='->', arrowsize=40, node_color=\"skyblue\", edge_color=\"gray\")\n",
    "\n",
    "# Title and labels\n",
    "plt.title(\"Gene Rank Progression Across Layers with StartNode\", fontsize=26)\n",
    "plt.xlabel(\"Layers\")\n",
    "plt.ylabel(\"Rank (Higher is lower on graph)\")\n",
    "plt.gca().invert_yaxis()  # To have higher ranks visually lower\n",
    "\n",
    "# Save the plot as an SVG file\n",
    "plt.savefig(\"gene_rank_progression_with_start_node_left.svg\", format=\"svg\")\n",
    "plt.savefig(\"gene_rank_progression_with_start_node_left.png\", format=\"png\")\n",
    "# Show the plot\n",
    "plt.savefig(\"integrated_stress_response_plots//integrated_gene_ranked_prgression_control_to_pd.png\", dpi=100)\n",
    "\n",
    "plt.show()\n"
   ]
  },
  {
   "cell_type": "code",
   "execution_count": null,
   "id": "3edbcbd0-0aee-4942-8f99-b415f93dec23",
   "metadata": {},
   "outputs": [],
   "source": [
    "!mkdir -p feature_importance_weights/Integrated_stress_genes/control_vs_pd"
   ]
  },
  {
   "cell_type": "code",
   "execution_count": null,
   "id": "857be8e6-9fdc-4484-b7d2-c32b2b80dc33",
   "metadata": {},
   "outputs": [],
   "source": [
    "!mkdir -p feature_importance_weights/Integrated_stress_genes/control_vs_pd\n",
    "\n",
    "def return_value(i):\n",
    "\n",
    "    l = [AVG_FEATURE_IMPORTANCES_PD_BL_Control_BL[i],AVG_FEATURE_IMPORTANCES_PD_V02_Control_V02[i],AVG_FEATURE_IMPORTANCES_PD_V04_Control_V04[i],\n",
    "    AVG_FEATURE_IMPORTANCES_PD_V06_Control_V06[i],AVG_FEATURE_IMPORTANCES_PD_V08_Control_V08[i]]\n",
    "    return l\n",
    "\n",
    "\n",
    "li = []\n",
    "genes = []\n",
    "for i in AVG_FEATURE_IMPORTANCES_PD_BL_Control_BL.keys():\n",
    "    \n",
    "    li.append(return_value(i))\n",
    "    genes.append(i)\n",
    "\n",
    "df = pd.DataFrame(li)\n",
    "df['genes'] = genes\n",
    "df = df.set_index('genes')\n",
    "df.columns = ['BL','V02','V04','V06','V08']\n",
    "df['Gene_Name'] =df.reset_index()['genes'].apply(return_gene_name).tolist()\n",
    "df = df.set_index('Gene_Name')\n",
    "df.to_csv(f'feature_importance_weights/Integrated_stress_genes/control_vs_pd/control_vs_pd.csv',index = True)\n",
    "df\n"
   ]
  },
  {
   "cell_type": "code",
   "execution_count": null,
   "id": "216d1e03-dafa-464e-9b60-ce021094a4c4",
   "metadata": {},
   "outputs": [],
   "source": []
  },
  {
   "cell_type": "code",
   "execution_count": null,
   "id": "45a31a4b-b0c8-434e-b3db-f93918c85e7f",
   "metadata": {},
   "outputs": [],
   "source": []
  },
  {
   "cell_type": "code",
   "execution_count": null,
   "id": "a7bad8dc-9c24-4792-8fcc-c1c6e60a74e9",
   "metadata": {},
   "outputs": [],
   "source": []
  }
 ],
 "metadata": {
  "kernelspec": {
   "display_name": "Python 3 (ipykernel)",
   "language": "python",
   "name": "python3"
  },
  "language_info": {
   "codemirror_mode": {
    "name": "ipython",
    "version": 3
   },
   "file_extension": ".py",
   "mimetype": "text/x-python",
   "name": "python",
   "nbconvert_exporter": "python",
   "pygments_lexer": "ipython3",
   "version": "3.12.2"
  }
 },
 "nbformat": 4,
 "nbformat_minor": 5
}
